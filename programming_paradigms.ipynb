{
 "cells": [
  {
   "cell_type": "markdown",
   "metadata": {},
   "source": [
    "In this lesson we will look at different types of programming paradigms"
   ]
  },
  {
   "cell_type": "markdown",
   "metadata": {},
   "source": [
    "**Procedural Programming**\n",
    "\n",
    "Functions in procedural programming are more like step by step instruction on how to achieve a particular goal. They are by nature iterative(called step by step and executed). "
   ]
  },
  {
   "cell_type": "code",
   "execution_count": null,
   "metadata": {},
   "outputs": [],
   "source": [
    "# Example of Procedural Style Programming \n",
    "\n",
    "def factorial(n):\n",
    "    \"\"\"Calculate the factorial of a given number.\n",
    "\n",
    "    :param int n: The factorial to calculate\n",
    "    :return: The resultant factorial\n",
    "    \"\"\"\n",
    "    if n < 0:\n",
    "        raise ValueError('Only use non-negative integers.')\n",
    "\n",
    "    factorial = 1\n",
    "    for i in range(1, n + 1): # iterate from 1 to n\n",
    "        # save intermediate value to use in the next iteration\n",
    "        factorial = factorial * i\n",
    "\n",
    "    return factorial"
   ]
  },
  {
   "cell_type": "markdown",
   "metadata": {},
   "source": [
    "**Functional  Programming**\n",
    "\n",
    "Functions in functional programming are logical instructions on how to achieve a particular goal. They are by nature recursive(same function called again and again to be repeated). "
   ]
  },
  {
   "cell_type": "code",
   "execution_count": null,
   "metadata": {},
   "outputs": [],
   "source": [
    "# Functional style factorial function\n",
    "def factorial(n):\n",
    "    \"\"\"Calculate the factorial of a given number.\n",
    "\n",
    "    :param int n: The factorial to calculate\n",
    "    :return: The resultant factorial\n",
    "    \"\"\"\n",
    "    if n < 0:\n",
    "        raise ValueError('Only use non-negative integers.')\n",
    "\n",
    "    if n == 0 or n == 1:\n",
    "        return 1 # exit from recursion, prevents infinite loops\n",
    "    else:\n",
    "        return  n * factorial(n-1) # recursive call to the same function"
   ]
  },
  {
   "cell_type": "markdown",
   "metadata": {},
   "source": [
    "**Pure Functions**\n",
    "\n",
    "Functions without side affects that return the same data each time the same input arguments are provided are called pure functions."
   ]
  },
  {
   "cell_type": "code",
   "execution_count": null,
   "metadata": {},
   "outputs": [],
   "source": [
    "def add_one(x):\n",
    "    return x + 1\n",
    "\n",
    "def say_hello(name):\n",
    "    print('Hello', name)\n",
    "\n",
    "def append_item_1(a_list, item):\n",
    "    a_list += [item]\n",
    "    return a_list\n",
    "\n",
    "def append_item_2(a_list, item):\n",
    "    result = a_list + [item]\n",
    "    return result"
   ]
  },
  {
   "cell_type": "markdown",
   "metadata": {},
   "source": [
    "> Solution: Pure Unpure Unpure Pure \n"
   ]
  },
  {
   "cell_type": "markdown",
   "metadata": {},
   "source": [
    "# Maps\n",
    "\n",
    "map(f, C) is a function takes another function f() and a collection C of data items as inputs. Calling map(f, L) applies the function f(x) to every data item x in a collection C and returns the resulting values as a new collection of the same size.\n",
    "\n",
    "This is a simple mapping that takes a list of names and returns a list of the lengths of those names using the built-in function len():"
   ]
  },
  {
   "cell_type": "code",
   "execution_count": 1,
   "metadata": {},
   "outputs": [
    {
     "name": "stdout",
     "output_type": "stream",
     "text": [
      "[4, 4, 3]\n",
      "[0, 1, 4, 9, 16]\n"
     ]
    }
   ],
   "source": [
    "#  A simple mapping that takes a list of names and returns a list of the lengths of those names using the built-in function len()\n",
    "name_lengths = map(len, [\"Mary\", \"Isla\", \"Sam\"])\n",
    "print(list(name_lengths))\n",
    "\n",
    "# A mapping that squares every number in the passed collection using anonymous, inlined lambda expression (a simple one-line mathematical expression representing a function)\n",
    "squares = map(lambda x: x * x, [0, 1, 2, 3, 4])\n",
    "print(list(squares))"
   ]
  },
  {
   "cell_type": "markdown",
   "metadata": {},
   "source": [
    "# Lambda\n",
    "\n",
    "Lambda expressions are used to create anonymous functions that can be used to write more compact programs by inlining function code. A lambda expression takes any number of input parameters and creates an anonymous function that returns the value of the expression. So, we can use the short, one-line lambda x, y, z, ...: expression code instead of defining and calling a named function f() as follows:"
   ]
  },
  {
   "cell_type": "markdown",
   "metadata": {},
   "source": [
    "The major distinction between lambda functions and ‘normal’ functions is that lambdas do not have names. We could give a name to a lambda expression if we really wanted to - but at that point we should be using a ‘normal’ Python function instead."
   ]
  },
  {
   "cell_type": "code",
   "execution_count": 2,
   "metadata": {},
   "outputs": [
    {
     "name": "stdout",
     "output_type": "stream",
     "text": [
      "[1, 2, 3]\n"
     ]
    }
   ],
   "source": [
    "# Don't do this\n",
    "add_one = lambda x: x + 1\n",
    "\n",
    "# Do this instead\n",
    "def add_one(x):\n",
    "  return x + 1\n",
    "\n",
    "def add_one(num):\n",
    "    return num + 1\n",
    "\n",
    "result = map(add_one, [0, 1, 2])\n",
    "print(list(result))"
   ]
  },
  {
   "cell_type": "markdown",
   "metadata": {},
   "source": [
    "# Pandas Map and Apply functions for processing complex data\n",
    "\n",
    "For common tasks, like filtering the table following a certain condition or applying arithmetical operations to table columns, with libraries like numpy and pandas it is always better to use built-in functions, since they are often optimized and work much faster than using map with a lambda function. However, not all data can be processed using already existing solutions. Apart from the Python built-in map function, numpy and pandas have their own implementations of mapping, optimized for processing numpy arrays, Series and DataFrames. One situation in which it can be really handy is when you have a table with complex data stored in the columns, e.g. lists, dicts or arrays. For example, some surveys use such a format for storing light curves or spectra measurements. Let’s simulate such situation:"
   ]
  },
  {
   "cell_type": "code",
   "execution_count": null,
   "metadata": {},
   "outputs": [],
   "source": [
    "import pandas as pd\n",
    "import os \n",
    "\n",
    "\n",
    "# Create an empty list where we will be storing our light curves\n",
    "lcs = []\n",
    "\n",
    "lc_datasets = {}\n",
    "lc_datasets[\"lsst\"] = pd.read_pickle(os.path.join(\"data\", \"lsst_RRLyr.pkl\"))\n",
    "# For each observed object\n",
    "for obj_id in lc_datasets[\"lsst\"][\"objectId\"].unique():\n",
    "    # Create an empty dict for the light curves of this object\n",
    "    lc = {}\n",
    "    lc['objectId'] = obj_id\n",
    "    for b in bands:\n",
    "        filt_band_obj = (lc_datasets[\"lsst\"][\"objectId\"] == obj_id) & (\n",
    "            lc_datasets[\"lsst\"][\"band\"] == b\n",
    "        )\n",
    "        # The observations in each band are converted to lists and stored as dict elements\n",
    "        lc[b+'_'+mag_col] = np.array(lc_datasets[\"lsst\"][filt_band_obj][mag_col])\n",
    "        lc[b+'_'+time_col] = np.array(lc_datasets[\"lsst\"][filt_band_obj][time_col])\n",
    "    lcs.append(lc)\n",
    "# Turn the list of dicts into a DataFrame    \n",
    "lcs = pd.DataFrame.from_records(lcs)"
   ]
  },
  {
   "cell_type": "markdown",
   "metadata": {},
   "source": [
    "# Comprehensions for Mapping/Data Generation\n",
    "\n",
    "Another way you can generate new collections of data from existing collections in Python is using comprehensions, which are an elegant and concise way of creating data from iterable objects using for loops. While not a pure functional concept, comprehensions provide data generation functionality and can be used to achieve the same effect as the built-in “pure functional” function map(). They are commonly used and actually recommended as a replacement of map() in modern Python. Let’s have a look at some examples."
   ]
  },
  {
   "cell_type": "code",
   "execution_count": 3,
   "metadata": {},
   "outputs": [
    {
     "name": "stdout",
     "output_type": "stream",
     "text": [
      "[0, 2, 4, 6, 8]\n",
      "[0, 4, 8]\n"
     ]
    }
   ],
   "source": [
    "integers = range(5)\n",
    "double_ints = [2 * i for i in integers]\n",
    "\n",
    "print(double_ints)\n",
    "\n",
    "# To filter data\n",
    "\n",
    "double_even_ints = [2 * i for i in integers if i % 2 == 0]\n",
    "print(double_even_ints)"
   ]
  },
  {
   "cell_type": "markdown",
   "metadata": {},
   "source": [
    "# Set and Dictionary Comprehensions and Generators\n",
    "\n",
    "We also have set comprehensions and dictionary comprehensions, which look similar to list comprehensions but use the set literal and dictionary literal syntax, respectively."
   ]
  },
  {
   "cell_type": "code",
   "execution_count": 4,
   "metadata": {},
   "outputs": [
    {
     "name": "stdout",
     "output_type": "stream",
     "text": [
      "{0, 8, 4}\n",
      "{0: 0, 2: 4, 4: 8}\n"
     ]
    }
   ],
   "source": [
    "double_even_int_set = {2 * i for i in integers if i % 2 == 0}\n",
    "print(double_even_int_set)\n",
    "\n",
    "double_even_int_dict = {i: 2 * i for i in integers if i % 2 == 0}\n",
    "print(double_even_int_dict)"
   ]
  },
  {
   "cell_type": "markdown",
   "metadata": {},
   "source": [
    "Finally, there’s one last ‘comprehension’ in Python - a generator expression - a type of an iterable object which we can take values from and loop over, but does not actually compute any of the values until we need them. Iterable is the generic term for anything we can loop or iterate over - lists, sets and dictionaries are all iterables.\n",
    "\n",
    "The range function is an example of a generator - if we created a range(1000000000), but didn’t iterate over it, we’d find that it takes almost no time to do. Creating a list containing a similar number of values would take much longer, and could be at risk of running out of memory.\n",
    "\n",
    "We can build our own generators using a generator expression. These look much like the comprehensions above, but act like a generator when we use them. Note the syntax difference for generator expressions - parenthesis are used in place of square or curly brackets."
   ]
  },
  {
   "cell_type": "code",
   "execution_count": 5,
   "metadata": {},
   "outputs": [
    {
     "name": "stdout",
     "output_type": "stream",
     "text": [
      "0\n",
      "2\n",
      "4\n",
      "6\n",
      "8\n"
     ]
    }
   ],
   "source": [
    "# Create a generator that yields the double of each integer in the input list\n",
    "doubles_generator = (2 * i for i in integers)\n",
    "for x in doubles_generator:\n",
    "   print(x)"
   ]
  },
  {
   "cell_type": "markdown",
   "metadata": {},
   "source": [
    "# Reducing\n",
    "reduce(f, C, initialiser) function accepts a function f(), a collection C of data items and an optional initialiser, and returns a single cumulative value which aggregates (reduces) all the values from the collection into a single result. The reduction function first applies the function f() to the first two values in the collection (or to the initialiser, if present, and the first item from C). Then for each remaining value in the collection, it takes the result of the previous computation and the next value from the collection as the new arguments to f() until we have processed all of the data and reduced it to a single value. For example, if collection C has 5 elements, the call reduce(f, C) calculates:"
   ]
  },
  {
   "cell_type": "code",
   "execution_count": null,
   "metadata": {},
   "outputs": [],
   "source": [
    "# One example of reducing would be to calculate the product of a sequence of numbers.\n",
    "from functools import reduce\n",
    "\n",
    "sequence = [1, 2, 3, 4]\n",
    "\n",
    "def product(a, b):\n",
    "    return a * b\n",
    "\n",
    "print(reduce(product, sequence))\n",
    "\n",
    "# The same reduction using a lambda function\n",
    "print(reduce((lambda a, b: a * b), sequence))"
   ]
  },
  {
   "cell_type": "markdown",
   "metadata": {},
   "source": [
    "# Decorators\n",
    "Finally, we will look at one last aspect of Python where functional programming is coming handy. As we have seen in the episode on parametrising our unit tests, a decorator can take a function, modify/decorate it, then return the resulting function. This is possible because Python treats functions as first-class objects that can be passed around as normal data. Here, we discuss decorators in more detail and learn how to write our own. Let’s look at the following code for ways on how to “decorate” functions."
   ]
  },
  {
   "cell_type": "code",
   "execution_count": 6,
   "metadata": {},
   "outputs": [
    {
     "name": "stdout",
     "output_type": "stream",
     "text": [
      "Before function call\n",
      "Adding one\n",
      "After function call\n",
      "2\n",
      "Before function call\n",
      "Adding two\n",
      "After function call\n",
      "3\n"
     ]
    }
   ],
   "source": [
    "def with_logging(func):\n",
    "\n",
    "    \"\"\"A decorator which adds logging to a function.\"\"\"\n",
    "    def inner(*args, **kwargs):\n",
    "        print(\"Before function call\")\n",
    "        result = func(*args, **kwargs)\n",
    "        print(\"After function call\")\n",
    "        return result\n",
    "\n",
    "    return inner\n",
    "\n",
    "\n",
    "def add_one(n):\n",
    "    print(\"Adding one\")\n",
    "    return n + 1\n",
    "\n",
    "# Redefine function add_one by wrapping it within with_logging function\n",
    "add_one = with_logging(add_one)\n",
    "\n",
    "# Another way to redefine a function - using a decorator\n",
    "@with_logging\n",
    "def add_two(n):\n",
    "    print(\"Adding two\")\n",
    "    return n + 2\n",
    "\n",
    "print(add_one(1))\n",
    "print(add_two(1))"
   ]
  },
  {
   "cell_type": "markdown",
   "metadata": {},
   "source": [
    "# Measuring Performance Using Decorators\n",
    "One small task you might find a useful case for a decorator is measuring the time taken to execute a particular function. This is an important part of performance profiling. While in the Jupyter Lab you can use cell magics for this task, in .py file a decorator is a suitable replacement.\n",
    "\n",
    "Write a decorator which you can use to measure the execution time of the decorated function using the time.process_time_ns() function. There are several different timing functions each with slightly different use-cases."
   ]
  },
  {
   "cell_type": "code",
   "execution_count": 7,
   "metadata": {},
   "outputs": [
    {
     "name": "stdout",
     "output_type": "stream",
     "text": [
      "Took 0.078125 seconds\n",
      "333332833333500000\n"
     ]
    }
   ],
   "source": [
    "import time\n",
    "\n",
    "def profile(func):\n",
    "    def inner(*args, **kwargs):\n",
    "        start = time.process_time_ns()\n",
    "        result = func(*args, **kwargs)\n",
    "        stop = time.process_time_ns()\n",
    "\n",
    "        print(\"Took {0} seconds\".format((stop - start) / 1e9))\n",
    "        return result\n",
    "\n",
    "    return inner\n",
    "\n",
    "@profile\n",
    "def measure_me(n):\n",
    "    total = 0\n",
    "    for i in range(n):\n",
    "        total += i * i\n",
    "\n",
    "    return total\n",
    "\n",
    "print(measure_me(1000000))"
   ]
  }
 ],
 "metadata": {
  "kernelspec": {
   "display_name": "interpython",
   "language": "python",
   "name": "python3"
  },
  "language_info": {
   "codemirror_mode": {
    "name": "ipython",
    "version": 3
   },
   "file_extension": ".py",
   "mimetype": "text/x-python",
   "name": "python",
   "nbconvert_exporter": "python",
   "pygments_lexer": "ipython3",
   "version": "3.12.2"
  }
 },
 "nbformat": 4,
 "nbformat_minor": 2
}
